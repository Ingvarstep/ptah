{
 "cells": [
  {
   "cell_type": "code",
   "execution_count": 34,
   "id": "pursuant-colleague",
   "metadata": {},
   "outputs": [],
   "source": [
    "import pandas as pd\n",
    "import torch\n",
    "path = \"../data/\"\n",
    "import numpy as np\n",
    "from NN import net2\n",
    "import spacy"
   ]
  },
  {
   "cell_type": "code",
   "execution_count": 2,
   "id": "efficient-drunk",
   "metadata": {},
   "outputs": [],
   "source": [
    "model = torch.load(path + \"pmiidf_model.pt\")"
   ]
  },
  {
   "cell_type": "code",
   "execution_count": 49,
   "id": "exotic-toddler",
   "metadata": {},
   "outputs": [
    {
     "data": {
      "text/plain": [
       "net2(\n",
       "  (layer1): Linear(in_features=200, out_features=100, bias=True)\n",
       "  (act1): Tanh()\n",
       "  (layer2): Linear(in_features=100, out_features=2, bias=True)\n",
       ")"
      ]
     },
     "execution_count": 49,
     "metadata": {},
     "output_type": "execute_result"
    }
   ],
   "source": [
    "model"
   ]
  },
  {
   "cell_type": "code",
   "execution_count": 50,
   "id": "infinite-circular",
   "metadata": {},
   "outputs": [],
   "source": [
    "vec = torch.Tensor( np.random.rand(1, 200) )"
   ]
  },
  {
   "cell_type": "code",
   "execution_count": 51,
   "id": "loving-federation",
   "metadata": {},
   "outputs": [
    {
     "data": {
      "text/plain": [
       "torch.Size([1, 200])"
      ]
     },
     "execution_count": 51,
     "metadata": {},
     "output_type": "execute_result"
    }
   ],
   "source": [
    "vec.shape"
   ]
  },
  {
   "cell_type": "code",
   "execution_count": 60,
   "id": "organizational-thesis",
   "metadata": {},
   "outputs": [],
   "source": [
    "a = model.forward(vec)"
   ]
  },
  {
   "cell_type": "code",
   "execution_count": 61,
   "id": "chubby-detective",
   "metadata": {},
   "outputs": [],
   "source": [
    "b = a.detach().numpy().squeeze(0)"
   ]
  },
  {
   "cell_type": "code",
   "execution_count": 54,
   "id": "accessory-wrist",
   "metadata": {},
   "outputs": [
    {
     "data": {
      "text/plain": [
       "array([-1.8108193, -2.5282905], dtype=float32)"
      ]
     },
     "execution_count": 54,
     "metadata": {},
     "output_type": "execute_result"
    }
   ],
   "source": [
    "b"
   ]
  },
  {
   "cell_type": "code",
   "execution_count": 55,
   "id": "chemical-champagne",
   "metadata": {},
   "outputs": [
    {
     "data": {
      "text/plain": [
       "-1.8108193"
      ]
     },
     "execution_count": 55,
     "metadata": {},
     "output_type": "execute_result"
    }
   ],
   "source": [
    "b[0]"
   ]
  },
  {
   "cell_type": "code",
   "execution_count": 56,
   "id": "unnecessary-dream",
   "metadata": {},
   "outputs": [],
   "source": [
    "nlp = spacy.load(\"en_core_sci_lg\", disable=['ner', 'parser'])"
   ]
  },
  {
   "cell_type": "code",
   "execution_count": 57,
   "id": "permanent-celtic",
   "metadata": {},
   "outputs": [],
   "source": [
    "word_emb = nlp(\"hello\").vector"
   ]
  },
  {
   "cell_type": "code",
   "execution_count": 58,
   "id": "noble-episode",
   "metadata": {},
   "outputs": [],
   "source": [
    "word_vec = torch.Tensor( word_emb ).unsqueeze(0)"
   ]
  },
  {
   "cell_type": "code",
   "execution_count": 59,
   "id": "final-northern",
   "metadata": {},
   "outputs": [
    {
     "data": {
      "text/plain": [
       "torch.Size([1, 200])"
      ]
     },
     "execution_count": 59,
     "metadata": {},
     "output_type": "execute_result"
    }
   ],
   "source": [
    "word_vec.shape"
   ]
  }
 ],
 "metadata": {
  "kernelspec": {
   "display_name": "Python 3",
   "language": "python",
   "name": "python3"
  },
  "language_info": {
   "codemirror_mode": {
    "name": "ipython",
    "version": 3
   },
   "file_extension": ".py",
   "mimetype": "text/x-python",
   "name": "python",
   "nbconvert_exporter": "python",
   "pygments_lexer": "ipython3",
   "version": "3.8.5"
  }
 },
 "nbformat": 4,
 "nbformat_minor": 5
}
