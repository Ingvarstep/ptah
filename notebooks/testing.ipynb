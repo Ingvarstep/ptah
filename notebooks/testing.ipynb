{
 "cells": [
  {
   "cell_type": "code",
   "execution_count": 2,
   "id": "disabled-consensus",
   "metadata": {},
   "outputs": [
    {
     "ename": "ModuleNotFoundError",
     "evalue": "No module named 'NN'",
     "output_type": "error",
     "traceback": [
      "\u001b[0;31m---------------------------------------------------------------------------\u001b[0m",
      "\u001b[0;31mModuleNotFoundError\u001b[0m                       Traceback (most recent call last)",
      "\u001b[0;32m<ipython-input-2-cfdf0a1ffabd>\u001b[0m in \u001b[0;36m<module>\u001b[0;34m\u001b[0m\n\u001b[1;32m      3\u001b[0m \u001b[0mpath\u001b[0m \u001b[0;34m=\u001b[0m \u001b[0;34m\"../data/\"\u001b[0m\u001b[0;34m\u001b[0m\u001b[0;34m\u001b[0m\u001b[0m\n\u001b[1;32m      4\u001b[0m \u001b[0;32mimport\u001b[0m \u001b[0mnumpy\u001b[0m \u001b[0;32mas\u001b[0m \u001b[0mnp\u001b[0m\u001b[0;34m\u001b[0m\u001b[0;34m\u001b[0m\u001b[0m\n\u001b[0;32m----> 5\u001b[0;31m \u001b[0;32mfrom\u001b[0m \u001b[0mNN\u001b[0m \u001b[0;32mimport\u001b[0m \u001b[0mnet2\u001b[0m\u001b[0;34m\u001b[0m\u001b[0;34m\u001b[0m\u001b[0m\n\u001b[0m\u001b[1;32m      6\u001b[0m \u001b[0;32mimport\u001b[0m \u001b[0mspacy\u001b[0m\u001b[0;34m\u001b[0m\u001b[0;34m\u001b[0m\u001b[0m\n",
      "\u001b[0;31mModuleNotFoundError\u001b[0m: No module named 'NN'"
     ]
    }
   ],
   "source": [
    "import pandas as pd\n",
    "import torch\n",
    "path = \"../data/\"\n",
    "import numpy as np\n",
    "from NN import net2\n",
    "import spacy"
   ]
  },
  {
   "cell_type": "code",
   "execution_count": 2,
   "id": "recent-joint",
   "metadata": {},
   "outputs": [],
   "source": [
    "model = torch.load(path + \"pmiidf_model.pt\")"
   ]
  },
  {
   "cell_type": "code",
   "execution_count": 49,
   "id": "forbidden-travel",
   "metadata": {},
   "outputs": [
    {
     "data": {
      "text/plain": [
       "net2(\n",
       "  (layer1): Linear(in_features=200, out_features=100, bias=True)\n",
       "  (act1): Tanh()\n",
       "  (layer2): Linear(in_features=100, out_features=2, bias=True)\n",
       ")"
      ]
     },
     "execution_count": 49,
     "metadata": {},
     "output_type": "execute_result"
    }
   ],
   "source": [
    "model"
   ]
  },
  {
   "cell_type": "code",
   "execution_count": 50,
   "id": "descending-importance",
   "metadata": {},
   "outputs": [],
   "source": [
    "vec = torch.Tensor( np.random.rand(1, 200) )"
   ]
  },
  {
   "cell_type": "code",
   "execution_count": 51,
   "id": "isolated-wellington",
   "metadata": {},
   "outputs": [
    {
     "data": {
      "text/plain": [
       "torch.Size([1, 200])"
      ]
     },
     "execution_count": 51,
     "metadata": {},
     "output_type": "execute_result"
    }
   ],
   "source": [
    "vec.shape"
   ]
  },
  {
   "cell_type": "code",
   "execution_count": 60,
   "id": "protected-disabled",
   "metadata": {},
   "outputs": [],
   "source": [
    "a = model.forward(vec)"
   ]
  },
  {
   "cell_type": "code",
   "execution_count": 61,
   "id": "hawaiian-croatia",
   "metadata": {},
   "outputs": [],
   "source": [
    "b = a.detach().numpy().squeeze(0)"
   ]
  },
  {
   "cell_type": "code",
   "execution_count": 54,
   "id": "bored-riding",
   "metadata": {},
   "outputs": [
    {
     "data": {
      "text/plain": [
       "array([-1.8108193, -2.5282905], dtype=float32)"
      ]
     },
     "execution_count": 54,
     "metadata": {},
     "output_type": "execute_result"
    }
   ],
   "source": [
    "b"
   ]
  },
  {
   "cell_type": "code",
   "execution_count": 55,
   "id": "limiting-bulgaria",
   "metadata": {},
   "outputs": [
    {
     "data": {
      "text/plain": [
       "-1.8108193"
      ]
     },
     "execution_count": 55,
     "metadata": {},
     "output_type": "execute_result"
    }
   ],
   "source": [
    "b[0]"
   ]
  },
  {
   "cell_type": "code",
   "execution_count": 56,
   "id": "adjusted-vault",
   "metadata": {},
   "outputs": [],
   "source": [
    "nlp = spacy.load(\"en_core_sci_lg\", disable=['ner', 'parser'])"
   ]
  },
  {
   "cell_type": "code",
   "execution_count": 57,
   "id": "funded-third",
   "metadata": {},
   "outputs": [],
   "source": [
    "word_emb = nlp(\"hello\").vector"
   ]
  },
  {
   "cell_type": "code",
   "execution_count": 58,
   "id": "noticed-picture",
   "metadata": {},
   "outputs": [],
   "source": [
    "word_vec = torch.Tensor( word_emb ).unsqueeze(0)"
   ]
  },
  {
   "cell_type": "code",
   "execution_count": 59,
   "id": "earlier-letter",
   "metadata": {},
   "outputs": [
    {
     "data": {
      "text/plain": [
       "torch.Size([1, 200])"
      ]
     },
     "execution_count": 59,
     "metadata": {},
     "output_type": "execute_result"
    }
   ],
   "source": [
    "word_vec.shape"
   ]
  },
  {
   "cell_type": "code",
   "execution_count": 3,
   "id": "spare-vietnam",
   "metadata": {},
   "outputs": [
    {
     "data": {
      "text/html": [
       "<div>\n",
       "<style scoped>\n",
       "    .dataframe tbody tr th:only-of-type {\n",
       "        vertical-align: middle;\n",
       "    }\n",
       "\n",
       "    .dataframe tbody tr th {\n",
       "        vertical-align: top;\n",
       "    }\n",
       "\n",
       "    .dataframe thead th {\n",
       "        text-align: right;\n",
       "    }\n",
       "</style>\n",
       "<table border=\"1\" class=\"dataframe\">\n",
       "  <thead>\n",
       "    <tr style=\"text-align: right;\">\n",
       "      <th></th>\n",
       "      <th>Unnamed: 0</th>\n",
       "      <th>PubMedID</th>\n",
       "      <th>Title</th>\n",
       "      <th>Abstract</th>\n",
       "      <th>Label</th>\n",
       "    </tr>\n",
       "  </thead>\n",
       "  <tbody>\n",
       "    <tr>\n",
       "      <th>0</th>\n",
       "      <td>0</td>\n",
       "      <td>PubMedID</td>\n",
       "      <td>Title</td>\n",
       "      <td>Abstract</td>\n",
       "      <td>0</td>\n",
       "    </tr>\n",
       "    <tr>\n",
       "      <th>1</th>\n",
       "      <td>1</td>\n",
       "      <td>4733</td>\n",
       "      <td>Huntington's chorea. Changes in neurotransmitt...</td>\n",
       "      <td>Neurotransmitter-receptor binding sites for ap...</td>\n",
       "      <td>0</td>\n",
       "    </tr>\n",
       "    <tr>\n",
       "      <th>2</th>\n",
       "      <td>2</td>\n",
       "      <td>19702</td>\n",
       "      <td>Natural history of lactic acidosis after grand...</td>\n",
       "      <td>To define the time course of the metabolic aci...</td>\n",
       "      <td>0</td>\n",
       "    </tr>\n",
       "    <tr>\n",
       "      <th>3</th>\n",
       "      <td>3</td>\n",
       "      <td>25385</td>\n",
       "      <td>A manpower policy for primary health care</td>\n",
       "      <td>A National Academy of Sciences study of policy...</td>\n",
       "      <td>0</td>\n",
       "    </tr>\n",
       "    <tr>\n",
       "      <th>4</th>\n",
       "      <td>4</td>\n",
       "      <td>61558</td>\n",
       "      <td>Multiple sclerosis cerebrospinal fluid produce...</td>\n",
       "      <td>To investigate the myelinotoxicity of cerebrop...</td>\n",
       "      <td>0</td>\n",
       "    </tr>\n",
       "    <tr>\n",
       "      <th>...</th>\n",
       "      <td>...</td>\n",
       "      <td>...</td>\n",
       "      <td>...</td>\n",
       "      <td>...</td>\n",
       "      <td>...</td>\n",
       "    </tr>\n",
       "    <tr>\n",
       "      <th>14200</th>\n",
       "      <td>14200</td>\n",
       "      <td>29119631</td>\n",
       "      <td>Safety and efficacy of early start of iron che...</td>\n",
       "      <td>\"Iron overload is inevitable in patients who a...</td>\n",
       "      <td>1</td>\n",
       "    </tr>\n",
       "    <tr>\n",
       "      <th>14201</th>\n",
       "      <td>14201</td>\n",
       "      <td>29159388</td>\n",
       "      <td>Hepatitis B Virus Reactivation Associated With...</td>\n",
       "      <td>NaN</td>\n",
       "      <td>1</td>\n",
       "    </tr>\n",
       "    <tr>\n",
       "      <th>14202</th>\n",
       "      <td>14202</td>\n",
       "      <td>29174546</td>\n",
       "      <td>Efficacy of Ledipasvir and Sofosbuvir Treatmen...</td>\n",
       "      <td>\"BACKGROUND &amp; AIMS: There have been reports of...</td>\n",
       "      <td>1</td>\n",
       "    </tr>\n",
       "    <tr>\n",
       "      <th>14203</th>\n",
       "      <td>14203</td>\n",
       "      <td>29194858</td>\n",
       "      <td>Low incidence of hepatitis B virus reactivatio...</td>\n",
       "      <td>To determine the clinical characteristics of h...</td>\n",
       "      <td>1</td>\n",
       "    </tr>\n",
       "    <tr>\n",
       "      <th>14204</th>\n",
       "      <td>14204</td>\n",
       "      <td>29296102</td>\n",
       "      <td>Efficacy and safety of sofosbuvir-based therap...</td>\n",
       "      <td>\"Background: The combination of sofosbuvir (SO...</td>\n",
       "      <td>1</td>\n",
       "    </tr>\n",
       "  </tbody>\n",
       "</table>\n",
       "<p>14205 rows × 5 columns</p>\n",
       "</div>"
      ],
      "text/plain": [
       "       Unnamed: 0  PubMedID  \\\n",
       "0               0  PubMedID   \n",
       "1               1      4733   \n",
       "2               2     19702   \n",
       "3               3     25385   \n",
       "4               4     61558   \n",
       "...           ...       ...   \n",
       "14200       14200  29119631   \n",
       "14201       14201  29159388   \n",
       "14202       14202  29174546   \n",
       "14203       14203  29194858   \n",
       "14204       14204  29296102   \n",
       "\n",
       "                                                   Title  \\\n",
       "0                                                  Title   \n",
       "1      Huntington's chorea. Changes in neurotransmitt...   \n",
       "2      Natural history of lactic acidosis after grand...   \n",
       "3              A manpower policy for primary health care   \n",
       "4      Multiple sclerosis cerebrospinal fluid produce...   \n",
       "...                                                  ...   \n",
       "14200  Safety and efficacy of early start of iron che...   \n",
       "14201  Hepatitis B Virus Reactivation Associated With...   \n",
       "14202  Efficacy of Ledipasvir and Sofosbuvir Treatmen...   \n",
       "14203  Low incidence of hepatitis B virus reactivatio...   \n",
       "14204  Efficacy and safety of sofosbuvir-based therap...   \n",
       "\n",
       "                                                Abstract  Label  \n",
       "0                                               Abstract      0  \n",
       "1      Neurotransmitter-receptor binding sites for ap...      0  \n",
       "2      To define the time course of the metabolic aci...      0  \n",
       "3      A National Academy of Sciences study of policy...      0  \n",
       "4      To investigate the myelinotoxicity of cerebrop...      0  \n",
       "...                                                  ...    ...  \n",
       "14200  \"Iron overload is inevitable in patients who a...      1  \n",
       "14201                                                NaN      1  \n",
       "14202  \"BACKGROUND & AIMS: There have been reports of...      1  \n",
       "14203  To determine the clinical characteristics of h...      1  \n",
       "14204  \"Background: The combination of sofosbuvir (SO...      1  \n",
       "\n",
       "[14205 rows x 5 columns]"
      ]
     },
     "execution_count": 3,
     "metadata": {},
     "output_type": "execute_result"
    }
   ],
   "source": [
    "data = pd.read_csv(path + \"DILI_data.csv\")\n",
    "data"
   ]
  },
  {
   "cell_type": "code",
   "execution_count": 4,
   "id": "facial-saver",
   "metadata": {},
   "outputs": [],
   "source": [
    "del data[\"Unnamed: 0\"]"
   ]
  },
  {
   "cell_type": "code",
   "execution_count": 5,
   "id": "rental-beads",
   "metadata": {},
   "outputs": [],
   "source": [
    "del data[\"PubMedID\"]"
   ]
  },
  {
   "cell_type": "code",
   "execution_count": 6,
   "id": "gorgeous-tampa",
   "metadata": {},
   "outputs": [
    {
     "data": {
      "text/html": [
       "<div>\n",
       "<style scoped>\n",
       "    .dataframe tbody tr th:only-of-type {\n",
       "        vertical-align: middle;\n",
       "    }\n",
       "\n",
       "    .dataframe tbody tr th {\n",
       "        vertical-align: top;\n",
       "    }\n",
       "\n",
       "    .dataframe thead th {\n",
       "        text-align: right;\n",
       "    }\n",
       "</style>\n",
       "<table border=\"1\" class=\"dataframe\">\n",
       "  <thead>\n",
       "    <tr style=\"text-align: right;\">\n",
       "      <th></th>\n",
       "      <th>Title</th>\n",
       "      <th>Abstract</th>\n",
       "      <th>Label</th>\n",
       "    </tr>\n",
       "  </thead>\n",
       "  <tbody>\n",
       "    <tr>\n",
       "      <th>0</th>\n",
       "      <td>Title</td>\n",
       "      <td>Abstract</td>\n",
       "      <td>0</td>\n",
       "    </tr>\n",
       "    <tr>\n",
       "      <th>1</th>\n",
       "      <td>Huntington's chorea. Changes in neurotransmitt...</td>\n",
       "      <td>Neurotransmitter-receptor binding sites for ap...</td>\n",
       "      <td>0</td>\n",
       "    </tr>\n",
       "    <tr>\n",
       "      <th>2</th>\n",
       "      <td>Natural history of lactic acidosis after grand...</td>\n",
       "      <td>To define the time course of the metabolic aci...</td>\n",
       "      <td>0</td>\n",
       "    </tr>\n",
       "    <tr>\n",
       "      <th>3</th>\n",
       "      <td>A manpower policy for primary health care</td>\n",
       "      <td>A National Academy of Sciences study of policy...</td>\n",
       "      <td>0</td>\n",
       "    </tr>\n",
       "    <tr>\n",
       "      <th>4</th>\n",
       "      <td>Multiple sclerosis cerebrospinal fluid produce...</td>\n",
       "      <td>To investigate the myelinotoxicity of cerebrop...</td>\n",
       "      <td>0</td>\n",
       "    </tr>\n",
       "    <tr>\n",
       "      <th>...</th>\n",
       "      <td>...</td>\n",
       "      <td>...</td>\n",
       "      <td>...</td>\n",
       "    </tr>\n",
       "    <tr>\n",
       "      <th>14200</th>\n",
       "      <td>Safety and efficacy of early start of iron che...</td>\n",
       "      <td>\"Iron overload is inevitable in patients who a...</td>\n",
       "      <td>1</td>\n",
       "    </tr>\n",
       "    <tr>\n",
       "      <th>14201</th>\n",
       "      <td>Hepatitis B Virus Reactivation Associated With...</td>\n",
       "      <td>NaN</td>\n",
       "      <td>1</td>\n",
       "    </tr>\n",
       "    <tr>\n",
       "      <th>14202</th>\n",
       "      <td>Efficacy of Ledipasvir and Sofosbuvir Treatmen...</td>\n",
       "      <td>\"BACKGROUND &amp; AIMS: There have been reports of...</td>\n",
       "      <td>1</td>\n",
       "    </tr>\n",
       "    <tr>\n",
       "      <th>14203</th>\n",
       "      <td>Low incidence of hepatitis B virus reactivatio...</td>\n",
       "      <td>To determine the clinical characteristics of h...</td>\n",
       "      <td>1</td>\n",
       "    </tr>\n",
       "    <tr>\n",
       "      <th>14204</th>\n",
       "      <td>Efficacy and safety of sofosbuvir-based therap...</td>\n",
       "      <td>\"Background: The combination of sofosbuvir (SO...</td>\n",
       "      <td>1</td>\n",
       "    </tr>\n",
       "  </tbody>\n",
       "</table>\n",
       "<p>14205 rows × 3 columns</p>\n",
       "</div>"
      ],
      "text/plain": [
       "                                                   Title  \\\n",
       "0                                                  Title   \n",
       "1      Huntington's chorea. Changes in neurotransmitt...   \n",
       "2      Natural history of lactic acidosis after grand...   \n",
       "3              A manpower policy for primary health care   \n",
       "4      Multiple sclerosis cerebrospinal fluid produce...   \n",
       "...                                                  ...   \n",
       "14200  Safety and efficacy of early start of iron che...   \n",
       "14201  Hepatitis B Virus Reactivation Associated With...   \n",
       "14202  Efficacy of Ledipasvir and Sofosbuvir Treatmen...   \n",
       "14203  Low incidence of hepatitis B virus reactivatio...   \n",
       "14204  Efficacy and safety of sofosbuvir-based therap...   \n",
       "\n",
       "                                                Abstract  Label  \n",
       "0                                               Abstract      0  \n",
       "1      Neurotransmitter-receptor binding sites for ap...      0  \n",
       "2      To define the time course of the metabolic aci...      0  \n",
       "3      A National Academy of Sciences study of policy...      0  \n",
       "4      To investigate the myelinotoxicity of cerebrop...      0  \n",
       "...                                                  ...    ...  \n",
       "14200  \"Iron overload is inevitable in patients who a...      1  \n",
       "14201                                                NaN      1  \n",
       "14202  \"BACKGROUND & AIMS: There have been reports of...      1  \n",
       "14203  To determine the clinical characteristics of h...      1  \n",
       "14204  \"Background: The combination of sofosbuvir (SO...      1  \n",
       "\n",
       "[14205 rows x 3 columns]"
      ]
     },
     "execution_count": 6,
     "metadata": {},
     "output_type": "execute_result"
    }
   ],
   "source": [
    "data"
   ]
  },
  {
   "cell_type": "code",
   "execution_count": 9,
   "id": "injured-audio",
   "metadata": {},
   "outputs": [
    {
     "data": {
      "text/html": [
       "<div>\n",
       "<style scoped>\n",
       "    .dataframe tbody tr th:only-of-type {\n",
       "        vertical-align: middle;\n",
       "    }\n",
       "\n",
       "    .dataframe tbody tr th {\n",
       "        vertical-align: top;\n",
       "    }\n",
       "\n",
       "    .dataframe thead th {\n",
       "        text-align: right;\n",
       "    }\n",
       "</style>\n",
       "<table border=\"1\" class=\"dataframe\">\n",
       "  <thead>\n",
       "    <tr style=\"text-align: right;\">\n",
       "      <th></th>\n",
       "      <th>Title</th>\n",
       "      <th>Abstract</th>\n",
       "      <th>Label</th>\n",
       "    </tr>\n",
       "  </thead>\n",
       "  <tbody>\n",
       "    <tr>\n",
       "      <th>5716</th>\n",
       "      <td>Interaction of a peptide derived from C-termin...</td>\n",
       "      <td>The transient receptor potential ankyrin 1 cha...</td>\n",
       "      <td>0</td>\n",
       "    </tr>\n",
       "    <tr>\n",
       "      <th>4944</th>\n",
       "      <td>The first recombinant FVIII produced in human ...</td>\n",
       "      <td>The development of inhibitors and the need for...</td>\n",
       "      <td>0</td>\n",
       "    </tr>\n",
       "    <tr>\n",
       "      <th>3730</th>\n",
       "      <td>Vegetative Compatibility Groups of Verticilliu...</td>\n",
       "      <td>A collection of 565 isolates of Verticillium d...</td>\n",
       "      <td>0</td>\n",
       "    </tr>\n",
       "    <tr>\n",
       "      <th>7349</th>\n",
       "      <td>The homebound aged: a medically unreached group</td>\n",
       "      <td>NaN</td>\n",
       "      <td>1</td>\n",
       "    </tr>\n",
       "    <tr>\n",
       "      <th>2065</th>\n",
       "      <td>Peroxynitrite formation during rat hepatic all...</td>\n",
       "      <td>The role of nitric oxide (NO) on tissue injury...</td>\n",
       "      <td>0</td>\n",
       "    </tr>\n",
       "    <tr>\n",
       "      <th>...</th>\n",
       "      <td>...</td>\n",
       "      <td>...</td>\n",
       "      <td>...</td>\n",
       "    </tr>\n",
       "    <tr>\n",
       "      <th>5032</th>\n",
       "      <td>MicroRNA-126 suppresses mesothelioma malignanc...</td>\n",
       "      <td>MiR126 was found to be frequently lost in many...</td>\n",
       "      <td>0</td>\n",
       "    </tr>\n",
       "    <tr>\n",
       "      <th>2244</th>\n",
       "      <td>Early expression and high prevalence of islet ...</td>\n",
       "      <td>Islet autoantibodies precede the clinical onse...</td>\n",
       "      <td>0</td>\n",
       "    </tr>\n",
       "    <tr>\n",
       "      <th>2045</th>\n",
       "      <td>Acute cocaine effects on stereotype and defens...</td>\n",
       "      <td>Cocaine administration to laboratory animals m...</td>\n",
       "      <td>0</td>\n",
       "    </tr>\n",
       "    <tr>\n",
       "      <th>3341</th>\n",
       "      <td>Characteristics and outcomes of adult patients...</td>\n",
       "      <td>A significant proportion of those initiating a...</td>\n",
       "      <td>0</td>\n",
       "    </tr>\n",
       "    <tr>\n",
       "      <th>109</th>\n",
       "      <td>A study of illness referral in a Spanish-speak...</td>\n",
       "      <td>In an anthropologic study of illness referral ...</td>\n",
       "      <td>0</td>\n",
       "    </tr>\n",
       "  </tbody>\n",
       "</table>\n",
       "<p>14205 rows × 3 columns</p>\n",
       "</div>"
      ],
      "text/plain": [
       "                                                  Title  \\\n",
       "5716  Interaction of a peptide derived from C-termin...   \n",
       "4944  The first recombinant FVIII produced in human ...   \n",
       "3730  Vegetative Compatibility Groups of Verticilliu...   \n",
       "7349    The homebound aged: a medically unreached group   \n",
       "2065  Peroxynitrite formation during rat hepatic all...   \n",
       "...                                                 ...   \n",
       "5032  MicroRNA-126 suppresses mesothelioma malignanc...   \n",
       "2244  Early expression and high prevalence of islet ...   \n",
       "2045  Acute cocaine effects on stereotype and defens...   \n",
       "3341  Characteristics and outcomes of adult patients...   \n",
       "109   A study of illness referral in a Spanish-speak...   \n",
       "\n",
       "                                               Abstract  Label  \n",
       "5716  The transient receptor potential ankyrin 1 cha...      0  \n",
       "4944  The development of inhibitors and the need for...      0  \n",
       "3730  A collection of 565 isolates of Verticillium d...      0  \n",
       "7349                                                NaN      1  \n",
       "2065  The role of nitric oxide (NO) on tissue injury...      0  \n",
       "...                                                 ...    ...  \n",
       "5032  MiR126 was found to be frequently lost in many...      0  \n",
       "2244  Islet autoantibodies precede the clinical onse...      0  \n",
       "2045  Cocaine administration to laboratory animals m...      0  \n",
       "3341  A significant proportion of those initiating a...      0  \n",
       "109   In an anthropologic study of illness referral ...      0  \n",
       "\n",
       "[14205 rows x 3 columns]"
      ]
     },
     "execution_count": 9,
     "metadata": {},
     "output_type": "execute_result"
    }
   ],
   "source": [
    "data_mixed = data.sample(frac=1)\n",
    "data_mixed"
   ]
  },
  {
   "cell_type": "code",
   "execution_count": 15,
   "id": "contrary-museum",
   "metadata": {},
   "outputs": [],
   "source": [
    "import torch\n",
    "import numpy as np\n",
    "import spacy\n",
    "device = torch.device('cuda:0')\n",
    "torch.random.seed()\n",
    "np.random.seed(256)\n",
    "path = \"../data/\"\n",
    "\n",
    "#spacy.prefer_gpu()\n",
    "#spacy.require_gpu()\n",
    "nlp = spacy.load(\"en_core_sci_lg\", disable=['ner', 'parser'])\n",
    "\n"
   ]
  },
  {
   "cell_type": "code",
   "execution_count": 16,
   "id": "proprietary-marsh",
   "metadata": {},
   "outputs": [],
   "source": [
    "test_emb = torch.from_numpy(nlp(\"medicine\").vector).unsqueeze(0)"
   ]
  },
  {
   "cell_type": "code",
   "execution_count": 20,
   "id": "cathedral-portland",
   "metadata": {},
   "outputs": [
    {
     "ename": "AttributeError",
     "evalue": "'Tensor' object has no attribute '_'",
     "output_type": "error",
     "traceback": [
      "\u001b[0;31m---------------------------------------------------------------------------\u001b[0m",
      "\u001b[0;31mAttributeError\u001b[0m                            Traceback (most recent call last)",
      "\u001b[0;32m<ipython-input-20-ecd1b07030d7>\u001b[0m in \u001b[0;36m<module>\u001b[0;34m\u001b[0m\n\u001b[0;32m----> 1\u001b[0;31m \u001b[0mtest_emb\u001b[0m\u001b[0;34m.\u001b[0m\u001b[0m_\u001b[0m\u001b[0;34m.\u001b[0m\u001b[0mtrf_data\u001b[0m\u001b[0;34m.\u001b[0m\u001b[0mtensors\u001b[0m\u001b[0;34m[\u001b[0m\u001b[0;34m-\u001b[0m\u001b[0;36m1\u001b[0m\u001b[0;34m]\u001b[0m\u001b[0;34m\u001b[0m\u001b[0;34m\u001b[0m\u001b[0m\n\u001b[0m",
      "\u001b[0;31mAttributeError\u001b[0m: 'Tensor' object has no attribute '_'"
     ]
    }
   ],
   "source": [
    "test_emb._.trf_data.tensors[-1]"
   ]
  },
  {
   "cell_type": "code",
   "execution_count": 49,
   "id": "defined-latino",
   "metadata": {},
   "outputs": [],
   "source": [
    "with open(path + \"word_embeddings_scilg.p\", \"rb\") as f:\n",
    "    data = pickle.load(f)\n",
    "    word_embeddings = data"
   ]
  },
  {
   "cell_type": "code",
   "execution_count": 53,
   "id": "retained-orbit",
   "metadata": {},
   "outputs": [],
   "source": [
    "a = torch.cat(word_embeddings, dim=0)"
   ]
  },
  {
   "cell_type": "code",
   "execution_count": 33,
   "id": "driving-filename",
   "metadata": {},
   "outputs": [
    {
     "name": "stdout",
     "output_type": "stream",
     "text": [
      "2006\n",
      "26533\n",
      "7.560396487393057 %\n"
     ]
    }
   ],
   "source": [
    "print(len(a))\n",
    "print(len(word_embeddings))\n",
    "print(len(a)*100/len(word_embeddings), \"%\")"
   ]
  },
  {
   "cell_type": "code",
   "execution_count": 72,
   "id": "vulnerable-chosen",
   "metadata": {},
   "outputs": [],
   "source": [
    "indices = []\n",
    "for idx, i in enumerate(a):\n",
    "    if torch.sum(torch.abs(i)) >= 1e-12:\n",
    "        indices.append(idx)"
   ]
  },
  {
   "cell_type": "code",
   "execution_count": 73,
   "id": "removed-exemption",
   "metadata": {},
   "outputs": [],
   "source": [
    "word_embeddings_cleaned = a[indices]"
   ]
  },
  {
   "cell_type": "code",
   "execution_count": 74,
   "id": "personalized-buddy",
   "metadata": {},
   "outputs": [
    {
     "data": {
      "text/plain": [
       "24527"
      ]
     },
     "execution_count": 74,
     "metadata": {},
     "output_type": "execute_result"
    }
   ],
   "source": [
    "len(word_embeddings_cleaned)"
   ]
  },
  {
   "cell_type": "code",
   "execution_count": 75,
   "id": "hispanic-omaha",
   "metadata": {},
   "outputs": [
    {
     "name": "stdout",
     "output_type": "stream",
     "text": [
      "26533\n"
     ]
    }
   ],
   "source": [
    "print(len(a))"
   ]
  },
  {
   "cell_type": "code",
   "execution_count": 78,
   "id": "geological-startup",
   "metadata": {},
   "outputs": [],
   "source": [
    "with open(path + \"word_embeddings_scilg_cleaned.p\", \"wb\") as f:\n",
    "    pickle.dump(word_embeddings_cleaned, f)"
   ]
  },
  {
   "cell_type": "code",
   "execution_count": 79,
   "id": "pleased-electron",
   "metadata": {},
   "outputs": [],
   "source": [
    "with open(path + \"pmiidf_scilg.p\", \"rb\") as f:\n",
    "    data = pickle.load(f)\n",
    "    pmiidf = data"
   ]
  },
  {
   "cell_type": "code",
   "execution_count": 86,
   "id": "selective-azerbaijan",
   "metadata": {},
   "outputs": [
    {
     "data": {
      "text/plain": [
       "torch.Size([26533, 2])"
      ]
     },
     "execution_count": 86,
     "metadata": {},
     "output_type": "execute_result"
    }
   ],
   "source": [
    "pmiidf.shape"
   ]
  },
  {
   "cell_type": "code",
   "execution_count": 87,
   "id": "exposed-microwave",
   "metadata": {},
   "outputs": [],
   "source": [
    "pmiidf_cleaned = pmiidf[indices]"
   ]
  },
  {
   "cell_type": "code",
   "execution_count": 88,
   "id": "hearing-borough",
   "metadata": {},
   "outputs": [
    {
     "data": {
      "text/plain": [
       "torch.Size([24527, 2])"
      ]
     },
     "execution_count": 88,
     "metadata": {},
     "output_type": "execute_result"
    }
   ],
   "source": [
    "pmiidf_cleaned.shape"
   ]
  },
  {
   "cell_type": "code",
   "execution_count": 89,
   "id": "complete-accountability",
   "metadata": {},
   "outputs": [],
   "source": [
    "with open(path + \"pmiidf_scilg_cleaned.p\", \"wb\") as f:\n",
    "    pickle.dump(pmiidf_cleaned, f)"
   ]
  }
 ],
 "metadata": {
  "kernelspec": {
   "display_name": "Python 3",
   "language": "python",
   "name": "python3"
  },
  "language_info": {
   "codemirror_mode": {
    "name": "ipython",
    "version": 3
   },
   "file_extension": ".py",
   "mimetype": "text/x-python",
   "name": "python",
   "nbconvert_exporter": "python",
   "pygments_lexer": "ipython3",
   "version": "3.8.5"
  }
 },
 "nbformat": 4,
 "nbformat_minor": 5
}
