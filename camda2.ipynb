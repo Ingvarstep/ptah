{
 "cells": [
  {
   "cell_type": "code",
   "execution_count": 1,
   "id": "alien-parking",
   "metadata": {},
   "outputs": [],
   "source": [
    "import pandas as pd\n",
    "import torch\n",
    "import matplotlib.pyplot as plt\n",
    "PATH = '/home/arsentii/prog/camda/'\n",
    "import numpy as np\n",
    "import torch\n",
    "import re\n",
    "import spacy\n",
    "from collections import defaultdict\n",
    "\n",
    "\n",
    "from nltk.stem import PorterStemmer\n",
    "from nltk.tokenize import word_tokenize\n",
    "import nltk\n",
    "spacy.prefer_gpu()\n",
    "nlp = spacy.load(\"en_core_sci_md\", disable=['ner', 'parser'])\n",
    "device = torch.device('cpu')"
   ]
  },
  {
   "cell_type": "code",
   "execution_count": 7,
   "id": "fabulous-center",
   "metadata": {},
   "outputs": [],
   "source": [
    "validation_data = pd.read_csv(PATH + \"Validation.tsv\", sep='\\t')\n",
    "validation_results = pd.read_csv(PATH + \"arsentii.ivasiuk@gmail.com_results.csv\")"
   ]
  },
  {
   "cell_type": "code",
   "execution_count": 9,
   "id": "alien-purchase",
   "metadata": {},
   "outputs": [
    {
     "data": {
      "text/plain": [
       "7241.0"
      ]
     },
     "execution_count": 9,
     "metadata": {},
     "output_type": "execute_result"
    }
   ],
   "source": [
    "validation_results[-200:]\n",
    "np.sum(validation_results[\"Label\"])"
   ]
  }
 ],
 "metadata": {
  "kernelspec": {
   "display_name": "Python 3",
   "language": "python",
   "name": "python3"
  },
  "language_info": {
   "codemirror_mode": {
    "name": "ipython",
    "version": 3
   },
   "file_extension": ".py",
   "mimetype": "text/x-python",
   "name": "python",
   "nbconvert_exporter": "python",
   "pygments_lexer": "ipython3",
   "version": "3.8.5"
  }
 },
 "nbformat": 4,
 "nbformat_minor": 5
}
