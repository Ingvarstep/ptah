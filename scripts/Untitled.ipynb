{
 "cells": [
  {
   "cell_type": "code",
   "execution_count": 19,
   "id": "steady-genre",
   "metadata": {},
   "outputs": [],
   "source": [
    "import pandas as pd\n",
    "import numpy as np\n",
    "from examples_analysis import print_example\n",
    "path = \"../data/\""
   ]
  },
  {
   "cell_type": "code",
   "execution_count": 20,
   "id": "arbitrary-clause",
   "metadata": {},
   "outputs": [],
   "source": [
    "data = pd.read_csv(path + \"DILI_data.csv\")"
   ]
  },
  {
   "cell_type": "code",
   "execution_count": 28,
   "id": "random-forty",
   "metadata": {},
   "outputs": [
    {
     "data": {
      "text/html": [
       "<div>\n",
       "<style scoped>\n",
       "    .dataframe tbody tr th:only-of-type {\n",
       "        vertical-align: middle;\n",
       "    }\n",
       "\n",
       "    .dataframe tbody tr th {\n",
       "        vertical-align: top;\n",
       "    }\n",
       "\n",
       "    .dataframe thead th {\n",
       "        text-align: right;\n",
       "    }\n",
       "</style>\n",
       "<table border=\"1\" class=\"dataframe\">\n",
       "  <thead>\n",
       "    <tr style=\"text-align: right;\">\n",
       "      <th></th>\n",
       "      <th>Unnamed: 0</th>\n",
       "      <th>Unnamed: 0.1</th>\n",
       "      <th>PubMedID</th>\n",
       "      <th>Title</th>\n",
       "      <th>Abstract</th>\n",
       "      <th>Label</th>\n",
       "    </tr>\n",
       "  </thead>\n",
       "  <tbody>\n",
       "    <tr>\n",
       "      <th>0</th>\n",
       "      <td>12516</td>\n",
       "      <td>12516</td>\n",
       "      <td>21913872</td>\n",
       "      <td>Genetic association studies in drug-induced li...</td>\n",
       "      <td>A large number of case-control association stu...</td>\n",
       "      <td>1</td>\n",
       "    </tr>\n",
       "    <tr>\n",
       "      <th>1</th>\n",
       "      <td>8594</td>\n",
       "      <td>8594</td>\n",
       "      <td>6510817</td>\n",
       "      <td>[Liver damage due to reserpine hypersensitivity]</td>\n",
       "      <td>NaN</td>\n",
       "      <td>1</td>\n",
       "    </tr>\n",
       "    <tr>\n",
       "      <th>2</th>\n",
       "      <td>4108</td>\n",
       "      <td>4108</td>\n",
       "      <td>20512985</td>\n",
       "      <td>Multiple effects of silymarin on the hepatitis...</td>\n",
       "      <td>Silymarin, an extract from milk thistle (Silyb...</td>\n",
       "      <td>0</td>\n",
       "    </tr>\n",
       "    <tr>\n",
       "      <th>3</th>\n",
       "      <td>6805</td>\n",
       "      <td>6805</td>\n",
       "      <td>30970186</td>\n",
       "      <td>Randomized Trial of Verubecestat for Prodromal...</td>\n",
       "      <td>BACKGROUND: Prodromal Alzheimer's disease offe...</td>\n",
       "      <td>0</td>\n",
       "    </tr>\n",
       "    <tr>\n",
       "      <th>4</th>\n",
       "      <td>11099</td>\n",
       "      <td>11099</td>\n",
       "      <td>16887497</td>\n",
       "      <td>Effects of chenodeoxycholic acid and deoxychol...</td>\n",
       "      <td>Quantitative and qualitative differences in in...</td>\n",
       "      <td>1</td>\n",
       "    </tr>\n",
       "    <tr>\n",
       "      <th>...</th>\n",
       "      <td>...</td>\n",
       "      <td>...</td>\n",
       "      <td>...</td>\n",
       "      <td>...</td>\n",
       "      <td>...</td>\n",
       "      <td>...</td>\n",
       "    </tr>\n",
       "    <tr>\n",
       "      <th>153</th>\n",
       "      <td>7894</td>\n",
       "      <td>7894</td>\n",
       "      <td>3154674</td>\n",
       "      <td>The pharmacology of nisoldipine</td>\n",
       "      <td>Nisoldipine is a calcium antagonist that speci...</td>\n",
       "      <td>1</td>\n",
       "    </tr>\n",
       "    <tr>\n",
       "      <th>154</th>\n",
       "      <td>4888</td>\n",
       "      <td>4888</td>\n",
       "      <td>24316283</td>\n",
       "      <td>Benefits and risks of splenectomy</td>\n",
       "      <td>Splenectomy is a powerful therapeutic procedur...</td>\n",
       "      <td>0</td>\n",
       "    </tr>\n",
       "    <tr>\n",
       "      <th>155</th>\n",
       "      <td>3796</td>\n",
       "      <td>3796</td>\n",
       "      <td>19123085</td>\n",
       "      <td>Acute anuric renal failure with streptokinase ...</td>\n",
       "      <td>The benefits of thrombolytic therapy in acute ...</td>\n",
       "      <td>0</td>\n",
       "    </tr>\n",
       "    <tr>\n",
       "      <th>156</th>\n",
       "      <td>6459</td>\n",
       "      <td>6459</td>\n",
       "      <td>29776950</td>\n",
       "      <td>Clinical effects and safety of electroacupunct...</td>\n",
       "      <td>The aim of this systematic review was to asses...</td>\n",
       "      <td>0</td>\n",
       "    </tr>\n",
       "    <tr>\n",
       "      <th>157</th>\n",
       "      <td>13103</td>\n",
       "      <td>13103</td>\n",
       "      <td>23594140</td>\n",
       "      <td>Chloral hydrate versus hydroxyzine HCL for sed...</td>\n",
       "      <td>OBJECTIVE: The sleep electroencephalogram (EEG...</td>\n",
       "      <td>1</td>\n",
       "    </tr>\n",
       "  </tbody>\n",
       "</table>\n",
       "<p>158 rows × 6 columns</p>\n",
       "</div>"
      ],
      "text/plain": [
       "     Unnamed: 0  Unnamed: 0.1  PubMedID  \\\n",
       "0         12516         12516  21913872   \n",
       "1          8594          8594   6510817   \n",
       "2          4108          4108  20512985   \n",
       "3          6805          6805  30970186   \n",
       "4         11099         11099  16887497   \n",
       "..          ...           ...       ...   \n",
       "153        7894          7894   3154674   \n",
       "154        4888          4888  24316283   \n",
       "155        3796          3796  19123085   \n",
       "156        6459          6459  29776950   \n",
       "157       13103         13103  23594140   \n",
       "\n",
       "                                                 Title  \\\n",
       "0    Genetic association studies in drug-induced li...   \n",
       "1     [Liver damage due to reserpine hypersensitivity]   \n",
       "2    Multiple effects of silymarin on the hepatitis...   \n",
       "3    Randomized Trial of Verubecestat for Prodromal...   \n",
       "4    Effects of chenodeoxycholic acid and deoxychol...   \n",
       "..                                                 ...   \n",
       "153                    The pharmacology of nisoldipine   \n",
       "154                  Benefits and risks of splenectomy   \n",
       "155  Acute anuric renal failure with streptokinase ...   \n",
       "156  Clinical effects and safety of electroacupunct...   \n",
       "157  Chloral hydrate versus hydroxyzine HCL for sed...   \n",
       "\n",
       "                                              Abstract  Label  \n",
       "0    A large number of case-control association stu...      1  \n",
       "1                                                  NaN      1  \n",
       "2    Silymarin, an extract from milk thistle (Silyb...      0  \n",
       "3    BACKGROUND: Prodromal Alzheimer's disease offe...      0  \n",
       "4    Quantitative and qualitative differences in in...      1  \n",
       "..                                                 ...    ...  \n",
       "153  Nisoldipine is a calcium antagonist that speci...      1  \n",
       "154  Splenectomy is a powerful therapeutic procedur...      0  \n",
       "155  The benefits of thrombolytic therapy in acute ...      0  \n",
       "156  The aim of this systematic review was to asses...      0  \n",
       "157  OBJECTIVE: The sleep electroencephalogram (EEG...      1  \n",
       "\n",
       "[158 rows x 6 columns]"
      ]
     },
     "execution_count": 28,
     "metadata": {},
     "output_type": "execute_result"
    }
   ],
   "source": [
    "inc = pd.read_csv(path + \"incorrect.csv\")\n",
    "inc"
   ]
  },
  {
   "cell_type": "code",
   "execution_count": 29,
   "id": "tight-papua",
   "metadata": {},
   "outputs": [
    {
     "name": "stdout",
     "output_type": "stream",
     "text": [
      "False negative 0.5063291139240507\n"
     ]
    }
   ],
   "source": [
    "positives = np.sum(inc[\"Label\"].values) / len(inc[\"Label\"].values)\n",
    "print(\"False negative\", positives)"
   ]
  },
  {
   "cell_type": "code",
   "execution_count": 30,
   "id": "standing-posting",
   "metadata": {},
   "outputs": [
    {
     "name": "stdout",
     "output_type": "stream",
     "text": [
      "158\n"
     ]
    }
   ],
   "source": [
    "print(len(inc))"
   ]
  },
  {
   "cell_type": "code",
   "execution_count": null,
   "id": "original-hazard",
   "metadata": {},
   "outputs": [
    {
     "name": "stdin",
     "output_type": "stream",
     "text": [
      " \n"
     ]
    },
    {
     "name": "stdout",
     "output_type": "stream",
     "text": [
      "Genetic association studies in drug-induced liver injury | 1 >> \n"
     ]
    },
    {
     "name": "stdin",
     "output_type": "stream",
     "text": [
      " \n",
      " \n"
     ]
    },
    {
     "name": "stdout",
     "output_type": "stream",
     "text": [
      "[Liver damage due to reserpine hypersensitivity] | 1 >> \n"
     ]
    },
    {
     "name": "stdin",
     "output_type": "stream",
     "text": [
      " \n",
      " \n"
     ]
    },
    {
     "name": "stdout",
     "output_type": "stream",
     "text": [
      "Multiple effects of silymarin on the hepatitis C virus lifecycle | 0 >> \n"
     ]
    },
    {
     "name": "stdin",
     "output_type": "stream",
     "text": [
      " \n",
      " \n"
     ]
    },
    {
     "name": "stdout",
     "output_type": "stream",
     "text": [
      "Randomized Trial of Verubecestat for Prodromal Alzheimer's Disease | 0 >> \n"
     ]
    },
    {
     "name": "stdin",
     "output_type": "stream",
     "text": [
      " \n",
      " \n"
     ]
    },
    {
     "name": "stdout",
     "output_type": "stream",
     "text": [
      "Effects of chenodeoxycholic acid and deoxycholic acid on cholesterol absorption and metabolism in humans | 1 >> \n"
     ]
    },
    {
     "name": "stdin",
     "output_type": "stream",
     "text": [
      " \n",
      " \n"
     ]
    },
    {
     "name": "stdout",
     "output_type": "stream",
     "text": [
      "Addition of ifosfamide and etoposide to standard chemotherapy for Ewing's sarcoma and primitive neuroectodermal tumor of bone | 0 >> \n"
     ]
    },
    {
     "name": "stdin",
     "output_type": "stream",
     "text": [
      " \n",
      " \n"
     ]
    },
    {
     "name": "stdout",
     "output_type": "stream",
     "text": [
      "Brain tissue elasticity and CSF elastance | 1 >> \n"
     ]
    },
    {
     "name": "stdin",
     "output_type": "stream",
     "text": [
      " \n",
      " \n"
     ]
    },
    {
     "name": "stdout",
     "output_type": "stream",
     "text": [
      "Preliminary experience with alemtuzumab (Campath-1H) and low-dose tacrolimus immunosuppression in adult liver transplantation | 1 >> \n"
     ]
    },
    {
     "name": "stdin",
     "output_type": "stream",
     "text": [
      " \n",
      " \n"
     ]
    },
    {
     "name": "stdout",
     "output_type": "stream",
     "text": [
      "Hepatotoxicity potential of saw palmetto (Serenoa repens) in rats | 1 >> \n"
     ]
    },
    {
     "name": "stdin",
     "output_type": "stream",
     "text": [
      " \n",
      " \n"
     ]
    },
    {
     "name": "stdout",
     "output_type": "stream",
     "text": [
      "BCR-ABL transcripts are early predictors for hematological relapse in chronic myeloid leukemia after hematopoietic cell transplantation with reduced intensity conditioning | 0 >> \n"
     ]
    },
    {
     "name": "stdin",
     "output_type": "stream",
     "text": [
      " \n",
      " \n"
     ]
    },
    {
     "name": "stdout",
     "output_type": "stream",
     "text": [
      "Comparative studies on the toxicity of mercury, cadmium, and copper toward the isolated perfused rat liver | 1 >> \n"
     ]
    },
    {
     "name": "stdin",
     "output_type": "stream",
     "text": [
      " \n",
      " \n"
     ]
    },
    {
     "name": "stdout",
     "output_type": "stream",
     "text": [
      "Aflibercept, bevacizumab, or ranibizumab for diabetic macular edema | 0 >> \n"
     ]
    },
    {
     "name": "stdin",
     "output_type": "stream",
     "text": [
      " \n",
      " \n"
     ]
    },
    {
     "name": "stdout",
     "output_type": "stream",
     "text": [
      "The effect of digoxin on endothelaemia in rats and its modification by a combination of troxerutin and coumarin | 0 >> \n"
     ]
    },
    {
     "name": "stdin",
     "output_type": "stream",
     "text": [
      " \n",
      " \n"
     ]
    },
    {
     "name": "stdout",
     "output_type": "stream",
     "text": [
      "Long-term survival of children with end-stage renal disease | 0 >> \n"
     ]
    },
    {
     "name": "stdin",
     "output_type": "stream",
     "text": [
      " \n",
      " \n"
     ]
    },
    {
     "name": "stdout",
     "output_type": "stream",
     "text": [
      "Treatment of the neuroleptic syndrome by biperiden hydrochloride under its delayed-action form. A 9-month study on 55 hospitalized patients] | 0 >> \n"
     ]
    },
    {
     "name": "stdin",
     "output_type": "stream",
     "text": [
      " \n",
      " \n"
     ]
    },
    {
     "name": "stdout",
     "output_type": "stream",
     "text": [
      "Intermittent topical 5-fluorouracil is effective without significant irritation in the treatment of actinic keratoses but prolongs treatment duration | 0 >> \n"
     ]
    },
    {
     "name": "stdin",
     "output_type": "stream",
     "text": [
      " \n",
      " \n"
     ]
    },
    {
     "name": "stdout",
     "output_type": "stream",
     "text": [
      "Incidence and outcome of Clostridium difficile infection following autologous peripheral blood stem cell transplantation | 0 >> \n"
     ]
    },
    {
     "name": "stdin",
     "output_type": "stream",
     "text": [
      " \n",
      " \n"
     ]
    },
    {
     "name": "stdout",
     "output_type": "stream",
     "text": [
      "The effects of supraphysiologic doses of testosterone on muscle size and strength in normal men | 1 >> \n"
     ]
    },
    {
     "name": "stdin",
     "output_type": "stream",
     "text": [
      " \n",
      " \n"
     ]
    },
    {
     "name": "stdout",
     "output_type": "stream",
     "text": [
      "Vitamin C and acute illness in Navajo school children | 0 >> \n"
     ]
    },
    {
     "name": "stdin",
     "output_type": "stream",
     "text": [
      " \n",
      " \n"
     ]
    },
    {
     "name": "stdout",
     "output_type": "stream",
     "text": [
      "The liver in fatal exertional heatstroke | 1 >> \n"
     ]
    },
    {
     "name": "stdin",
     "output_type": "stream",
     "text": [
      " \n",
      " \n"
     ]
    },
    {
     "name": "stdout",
     "output_type": "stream",
     "text": [
      "Treatment of diarrhea caused by Giardia intestinalis and Entamoeba histolytica or E. dispar: a randomized, double-blind, placebo-controlled study of nitazoxanide | 1 >> \n"
     ]
    },
    {
     "name": "stdin",
     "output_type": "stream",
     "text": [
      " \n",
      " \n"
     ]
    },
    {
     "name": "stdout",
     "output_type": "stream",
     "text": [
      "HLA haplotype determines hapten or p-i T cell reactivity to flucloxacillin | 1 >> \n"
     ]
    },
    {
     "name": "stdin",
     "output_type": "stream",
     "text": [
      " \n",
      " \n"
     ]
    },
    {
     "name": "stdout",
     "output_type": "stream",
     "text": [
      "Displacement of warfarin from human serum proteins by halothane anaesthesia | 0 >> \n"
     ]
    },
    {
     "name": "stdin",
     "output_type": "stream",
     "text": [
      " \n",
      " \n"
     ]
    },
    {
     "name": "stdout",
     "output_type": "stream",
     "text": [
      "Homocystinuria due to cystathionine beta-synthase deficiency--the effects of betaine treatment in pyridoxine-responsive patients | 1 >> \n"
     ]
    },
    {
     "name": "stdin",
     "output_type": "stream",
     "text": [
      " \n",
      " \n"
     ]
    },
    {
     "name": "stdout",
     "output_type": "stream",
     "text": [
      "HLA DR antigens and gold toxicity | 1 >> \n"
     ]
    },
    {
     "name": "stdin",
     "output_type": "stream",
     "text": [
      " \n",
      " \n"
     ]
    },
    {
     "name": "stdout",
     "output_type": "stream",
     "text": [
      "The Efficacy and Safety of 3 Types of Interventions for Stroke Prevention in Patients With Cardiovascular and Cerebrovascular Diseases: A Network Meta-analysis | 1 >> \n"
     ]
    },
    {
     "name": "stdin",
     "output_type": "stream",
     "text": [
      " \n",
      " \n"
     ]
    },
    {
     "name": "stdout",
     "output_type": "stream",
     "text": [
      "Low body weight in females is a risk factor for increased tenofovir exposure and drug-related adverse events | 0 >> \n"
     ]
    },
    {
     "name": "stdin",
     "output_type": "stream",
     "text": [
      " \n",
      " \n"
     ]
    },
    {
     "name": "stdout",
     "output_type": "stream",
     "text": [
      "Sirolimus: a comprehensive review | 1 >> \n"
     ]
    },
    {
     "name": "stdin",
     "output_type": "stream",
     "text": [
      " \n",
      " \n"
     ]
    },
    {
     "name": "stdout",
     "output_type": "stream",
     "text": [
      "Sensory neuropathy from pyridoxine abuse. A new megavitamin syndrome | 1 >> \n"
     ]
    },
    {
     "name": "stdin",
     "output_type": "stream",
     "text": [
      " \n",
      " \n"
     ]
    },
    {
     "name": "stdout",
     "output_type": "stream",
     "text": [
      "[Dentist and physician integrated training at the Health Sciences Faculty at Copenhagen] | 1 >> \n"
     ]
    },
    {
     "name": "stdin",
     "output_type": "stream",
     "text": [
      " \n",
      " \n"
     ]
    },
    {
     "name": "stdout",
     "output_type": "stream",
     "text": [
      "Discordance for Schimmelpenning-Feuerstein-Mims syndrome in monochorionic twins supports the concept of a postzygotic mutation | 1 >> \n"
     ]
    },
    {
     "name": "stdin",
     "output_type": "stream",
     "text": [
      " \n",
      " \n"
     ]
    },
    {
     "name": "stdout",
     "output_type": "stream",
     "text": [
      "Structure-activity relationship and substrate-dependent phenomena in effects of ginsenosides on activities of drug-metabolizing P450 enzymes | 1 >> \n"
     ]
    },
    {
     "name": "stdin",
     "output_type": "stream",
     "text": [
      " \n",
      " \n"
     ]
    },
    {
     "name": "stdout",
     "output_type": "stream",
     "text": [
      "Anti-depressive effect of acupuncture on selective serotonin reuptake inhibitors] | 0 >> \n"
     ]
    },
    {
     "name": "stdin",
     "output_type": "stream",
     "text": [
      " \n",
      " \n"
     ]
    },
    {
     "name": "stdout",
     "output_type": "stream",
     "text": [
      "Criteria and recommendations for vitamin C intake | 1 >> \n"
     ]
    },
    {
     "name": "stdin",
     "output_type": "stream",
     "text": [
      " \n",
      " \n"
     ]
    },
    {
     "name": "stdout",
     "output_type": "stream",
     "text": [
      "Complications of immunosuppressive agents therapy in transplant patients | 0 >> \n"
     ]
    },
    {
     "name": "stdin",
     "output_type": "stream",
     "text": [
      " \n",
      " \n"
     ]
    },
    {
     "name": "stdout",
     "output_type": "stream",
     "text": [
      "Graft-versus-host disease as adoptive immunotherapy in patients with advanced hematologic neoplasms | 0 >> \n"
     ]
    },
    {
     "name": "stdin",
     "output_type": "stream",
     "text": [
      " \n",
      " \n"
     ]
    },
    {
     "name": "stdout",
     "output_type": "stream",
     "text": [
      "Clinical study of renal impairment in patients with propylthiouracil-induced small-vessel vasculitis and patients with primary ANCA-associated small-vessel vasculitis | 0 >> \n"
     ]
    },
    {
     "name": "stdin",
     "output_type": "stream",
     "text": [
      " \n",
      " \n"
     ]
    },
    {
     "name": "stdout",
     "output_type": "stream",
     "text": [
      "Circulating microRNAs as potential markers of human drug-induced liver injury | 1 >> \n"
     ]
    },
    {
     "name": "stdin",
     "output_type": "stream",
     "text": [
      " \n",
      " \n"
     ]
    },
    {
     "name": "stdout",
     "output_type": "stream",
     "text": [
      "Multiple versus single antipsychotic agents for hospitalized psychiatric patients: case-control study of risks versus benefits | 0 >> \n"
     ]
    },
    {
     "name": "stdin",
     "output_type": "stream",
     "text": [
      " \n",
      " \n"
     ]
    },
    {
     "name": "stdout",
     "output_type": "stream",
     "text": [
      "Outbreak of fatal arsenic poisoning caused by contaminated drinking water | 1 >> \n"
     ]
    },
    {
     "name": "stdin",
     "output_type": "stream",
     "text": [
      " \n",
      " \n"
     ]
    },
    {
     "name": "stdout",
     "output_type": "stream",
     "text": [
      "Phenotypic spectrum associated with mutations of the mitochondrial polymerase gamma gene | 1 >> \n"
     ]
    },
    {
     "name": "stdin",
     "output_type": "stream",
     "text": [
      " \n",
      " \n"
     ]
    },
    {
     "name": "stdout",
     "output_type": "stream",
     "text": [
      "Adefovir dipivoxil for wait-listed and post-liver transplantation patients with lamivudine-resistant hepatitis B: final long-term results | 1 >> \n"
     ]
    },
    {
     "name": "stdin",
     "output_type": "stream",
     "text": [
      " \n",
      " \n"
     ]
    },
    {
     "name": "stdout",
     "output_type": "stream",
     "text": [
      "Hepatitis B and C virus infection in Crohn's disease | 1 >> \n"
     ]
    },
    {
     "name": "stdin",
     "output_type": "stream",
     "text": [
      " \n",
      " \n"
     ]
    },
    {
     "name": "stdout",
     "output_type": "stream",
     "text": [
      "A case of untreatable progressive bladder carcinoma effectively treated by single administration of tegafur and uracil] | 0 >> \n"
     ]
    },
    {
     "name": "stdin",
     "output_type": "stream",
     "text": [
      " \n",
      " \n"
     ]
    },
    {
     "name": "stdout",
     "output_type": "stream",
     "text": [
      "Syndromes of thrombotic microangiopathy | 0 >> \n"
     ]
    },
    {
     "name": "stdin",
     "output_type": "stream",
     "text": [
      " \n",
      " \n"
     ]
    },
    {
     "name": "stdout",
     "output_type": "stream",
     "text": [
      "[Technical aspects of ultrasonography of the fetal hip joint] | 1 >> \n"
     ]
    },
    {
     "name": "stdin",
     "output_type": "stream",
     "text": [
      " \n",
      " \n"
     ]
    },
    {
     "name": "stdout",
     "output_type": "stream",
     "text": [
      "IgG 4 Autoimmune hepatitis presenting as idiopathic hypereosinophilia syndrome | 0 >> \n"
     ]
    },
    {
     "name": "stdin",
     "output_type": "stream",
     "text": [
      " \n",
      " \n"
     ]
    },
    {
     "name": "stdout",
     "output_type": "stream",
     "text": [
      "Pharmacological correction of neonatal lethal hepatic dysfunction in a murine model of hereditary tyrosinaemia type I | 1 >> \n"
     ]
    },
    {
     "name": "stdin",
     "output_type": "stream",
     "text": [
      " \n",
      " \n"
     ]
    },
    {
     "name": "stdout",
     "output_type": "stream",
     "text": [
      "Chronic vitamin A intoxication in infants fed chicken liver | 1 >> \n"
     ]
    },
    {
     "name": "stdin",
     "output_type": "stream",
     "text": [
      " \n",
      " \n"
     ]
    },
    {
     "name": "stdout",
     "output_type": "stream",
     "text": [
      "[Emergency care and nursing. 18. Diagnostic tests and treatment necessary for emergency patients] | 1 >> \n"
     ]
    },
    {
     "name": "stdin",
     "output_type": "stream",
     "text": [
      " \n",
      " \n"
     ]
    },
    {
     "name": "stdout",
     "output_type": "stream",
     "text": [
      "Drug Insight: appetite suppressants | 1 >> \n"
     ]
    },
    {
     "name": "stdin",
     "output_type": "stream",
     "text": [
      " \n",
      " \n"
     ]
    },
    {
     "name": "stdout",
     "output_type": "stream",
     "text": [
      "ABCB4 gene mutations and single-nucleotide polymorphisms in women with intrahepatic cholestasis of pregnancy | 1 >> \n"
     ]
    },
    {
     "name": "stdin",
     "output_type": "stream",
     "text": [
      " \n",
      " \n"
     ]
    },
    {
     "name": "stdout",
     "output_type": "stream",
     "text": [
      "Current perspectives for the treatment of chronic myeloid leukemia | 0 >> \n"
     ]
    },
    {
     "name": "stdin",
     "output_type": "stream",
     "text": [
      " \n",
      " \n"
     ]
    },
    {
     "name": "stdout",
     "output_type": "stream",
     "text": [
      "Acetaminophen-induced hepatotoxicity | 1 >> \n"
     ]
    },
    {
     "name": "stdin",
     "output_type": "stream",
     "text": [
      " \n",
      " \n"
     ]
    },
    {
     "name": "stdout",
     "output_type": "stream",
     "text": [
      "The effect of somatostatin on coagulation and platelet function in man | 0 >> \n"
     ]
    },
    {
     "name": "stdin",
     "output_type": "stream",
     "text": [
      " \n",
      " \n"
     ]
    },
    {
     "name": "stdout",
     "output_type": "stream",
     "text": [
      "Long-term macrolide antibiotics for the treatment of bronchiectasis in adults: an individual participant data meta-analysis | 0 >> \n"
     ]
    }
   ],
   "source": [
    "print_example(inc, indices=[i for i in range(len(inc))])"
   ]
  }
 ],
 "metadata": {
  "kernelspec": {
   "display_name": "Python 3",
   "language": "python",
   "name": "python3"
  },
  "language_info": {
   "codemirror_mode": {
    "name": "ipython",
    "version": 3
   },
   "file_extension": ".py",
   "mimetype": "text/x-python",
   "name": "python",
   "nbconvert_exporter": "python",
   "pygments_lexer": "ipython3",
   "version": "3.8.5"
  }
 },
 "nbformat": 4,
 "nbformat_minor": 5
}
