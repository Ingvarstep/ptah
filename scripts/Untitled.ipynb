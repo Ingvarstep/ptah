{
 "cells": [
  {
   "cell_type": "code",
   "execution_count": 34,
   "id": "fatal-talent",
   "metadata": {},
   "outputs": [],
   "source": [
    "import pandas as pd\n",
    "import torch\n",
    "path = \"../data/\"\n",
    "import numpy as np\n",
    "from NN import net2\n",
    "import spacy"
   ]
  },
  {
   "cell_type": "code",
   "execution_count": 2,
   "id": "attached-airline",
   "metadata": {},
   "outputs": [],
   "source": [
    "model = torch.load(path + \"pmiidf_model.pt\")"
   ]
  },
  {
   "cell_type": "code",
   "execution_count": 49,
   "id": "metric-embassy",
   "metadata": {},
   "outputs": [
    {
     "data": {
      "text/plain": [
       "net2(\n",
       "  (layer1): Linear(in_features=200, out_features=100, bias=True)\n",
       "  (act1): Tanh()\n",
       "  (layer2): Linear(in_features=100, out_features=2, bias=True)\n",
       ")"
      ]
     },
     "execution_count": 49,
     "metadata": {},
     "output_type": "execute_result"
    }
   ],
   "source": [
    "model"
   ]
  },
  {
   "cell_type": "code",
   "execution_count": 50,
   "id": "equipped-marijuana",
   "metadata": {},
   "outputs": [],
   "source": [
    "vec = torch.Tensor( np.random.rand(1, 200) )"
   ]
  },
  {
   "cell_type": "code",
   "execution_count": 51,
   "id": "unsigned-alias",
   "metadata": {},
   "outputs": [
    {
     "data": {
      "text/plain": [
       "torch.Size([1, 200])"
      ]
     },
     "execution_count": 51,
     "metadata": {},
     "output_type": "execute_result"
    }
   ],
   "source": [
    "vec.shape"
   ]
  },
  {
   "cell_type": "code",
   "execution_count": 52,
   "id": "selective-slovak",
   "metadata": {},
   "outputs": [],
   "source": [
    "a = model.forward(vec)"
   ]
  },
  {
   "cell_type": "code",
   "execution_count": 53,
   "id": "judicial-entrance",
   "metadata": {},
   "outputs": [],
   "source": [
    "b = a.detach().numpy().squeeze(0)"
   ]
  },
  {
   "cell_type": "code",
   "execution_count": 54,
   "id": "pointed-breakdown",
   "metadata": {},
   "outputs": [
    {
     "data": {
      "text/plain": [
       "array([-1.8108193, -2.5282905], dtype=float32)"
      ]
     },
     "execution_count": 54,
     "metadata": {},
     "output_type": "execute_result"
    }
   ],
   "source": [
    "b"
   ]
  },
  {
   "cell_type": "code",
   "execution_count": 55,
   "id": "tested-violence",
   "metadata": {},
   "outputs": [
    {
     "data": {
      "text/plain": [
       "-1.8108193"
      ]
     },
     "execution_count": 55,
     "metadata": {},
     "output_type": "execute_result"
    }
   ],
   "source": [
    "b[0]"
   ]
  },
  {
   "cell_type": "code",
   "execution_count": 56,
   "id": "bizarre-province",
   "metadata": {},
   "outputs": [],
   "source": [
    "nlp = spacy.load(\"en_core_sci_lg\", disable=['ner', 'parser'])"
   ]
  },
  {
   "cell_type": "code",
   "execution_count": 57,
   "id": "broad-relations",
   "metadata": {},
   "outputs": [],
   "source": [
    "word_emb = nlp(\"hello\").vector"
   ]
  },
  {
   "cell_type": "code",
   "execution_count": 58,
   "id": "innovative-houston",
   "metadata": {},
   "outputs": [],
   "source": [
    "word_vec = torch.Tensor( word_emb ).unsqueeze(0)"
   ]
  },
  {
   "cell_type": "code",
   "execution_count": 59,
   "id": "coastal-wireless",
   "metadata": {},
   "outputs": [
    {
     "data": {
      "text/plain": [
       "torch.Size([1, 200])"
      ]
     },
     "execution_count": 59,
     "metadata": {},
     "output_type": "execute_result"
    }
   ],
   "source": [
    "word_vec.shape"
   ]
  }
 ],
 "metadata": {
  "kernelspec": {
   "display_name": "Python 3",
   "language": "python",
   "name": "python3"
  },
  "language_info": {
   "codemirror_mode": {
    "name": "ipython",
    "version": 3
   },
   "file_extension": ".py",
   "mimetype": "text/x-python",
   "name": "python",
   "nbconvert_exporter": "python",
   "pygments_lexer": "ipython3",
   "version": "3.8.5"
  }
 },
 "nbformat": 4,
 "nbformat_minor": 5
}
